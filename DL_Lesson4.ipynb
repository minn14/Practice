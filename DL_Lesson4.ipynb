{
  "nbformat": 4,
  "nbformat_minor": 0,
  "metadata": {
    "colab": {
      "provenance": [],
      "authorship_tag": "ABX9TyNon/xf5wZ+ax8A3109A2aM",
      "include_colab_link": true
    },
    "kernelspec": {
      "name": "python3",
      "display_name": "Python 3"
    },
    "language_info": {
      "name": "python"
    }
  },
  "cells": [
    {
      "cell_type": "markdown",
      "metadata": {
        "id": "view-in-github",
        "colab_type": "text"
      },
      "source": [
        "<a href=\"https://colab.research.google.com/github/minn14/Practice/blob/main/DL_Lesson4.ipynb\" target=\"_parent\"><img src=\"https://colab.research.google.com/assets/colab-badge.svg\" alt=\"Open In Colab\"/></a>"
      ]
    },
    {
      "cell_type": "markdown",
      "source": [
        "# An example of an integer\n"
      ],
      "metadata": {
        "id": "zJM_i4-58va8"
      }
    },
    {
      "cell_type": "code",
      "execution_count": 1,
      "metadata": {
        "colab": {
          "base_uri": "https://localhost:8080/"
        },
        "id": "q4PKzcLi8NNd",
        "outputId": "85fa3da4-8eee-4fe6-c4d7-3b1ba94e872f"
      },
      "outputs": [
        {
          "output_type": "stream",
          "name": "stdout",
          "text": [
            "Age: 25\n"
          ]
        }
      ],
      "source": [
        "age = 25\n",
        "print(\"Age:\", age)"
      ]
    },
    {
      "cell_type": "markdown",
      "source": [
        "# An example of a float"
      ],
      "metadata": {
        "id": "zzFPZ3BJ9f3-"
      }
    },
    {
      "cell_type": "code",
      "source": [
        "average_score = 82.5\n",
        "print(\"Average Score:\", average_score)"
      ],
      "metadata": {
        "colab": {
          "base_uri": "https://localhost:8080/"
        },
        "id": "pYxPxonk9kBO",
        "outputId": "c7585395-e104-42cb-91a9-64e2ff55bc4b"
      },
      "execution_count": 2,
      "outputs": [
        {
          "output_type": "stream",
          "name": "stdout",
          "text": [
            "Average Score: 82.5\n"
          ]
        }
      ]
    },
    {
      "cell_type": "markdown",
      "source": [
        "# An example of a string"
      ],
      "metadata": {
        "id": "c0IzxtsD-ItB"
      }
    },
    {
      "cell_type": "code",
      "source": [
        "name = input() # A pop-up box will appear and wait for your input. Type a name.\n",
        "print(\"Hello, %s!\"%name)  # % operator: The % operator is used for string for string formatting. It links the string \"Hello, %s!\" with the variable name to replace the  %s placeholder."
      ],
      "metadata": {
        "colab": {
          "base_uri": "https://localhost:8080/"
        },
        "id": "NK7v5mR7-Nqn",
        "outputId": "7749c21c-a7ba-4235-f62c-dc53d334257b"
      },
      "execution_count": 3,
      "outputs": [
        {
          "output_type": "stream",
          "name": "stdout",
          "text": [
            "민채\n",
            "Hello, 민채!\n"
          ]
        }
      ]
    },
    {
      "cell_type": "code",
      "source": [
        "name = input()  # A pop-up box will appear and wait for your input. Type a name.\n",
        "print(f\"Hello, {name}!\")    #"
      ],
      "metadata": {
        "colab": {
          "base_uri": "https://localhost:8080/"
        },
        "id": "l9zTr6iyAVcJ",
        "outputId": "79a4bd06-6181-4ce0-b759-495bd71307fc"
      },
      "execution_count": 6,
      "outputs": [
        {
          "output_type": "stream",
          "name": "stdout",
          "text": [
            "민채\n",
            "Hello, 민채!\n"
          ]
        }
      ]
    },
    {
      "cell_type": "code",
      "source": [
        "mytext = \"\"\"\n",
        "Long long time ago, there lived a lion called Lezzi. Ond day, he met a boy who...\n",
        "\"\"\"\n",
        "print (mytext)"
      ],
      "metadata": {
        "colab": {
          "base_uri": "https://localhost:8080/"
        },
        "id": "e9Otr6TJA46L",
        "outputId": "b5b9d7f6-fb7f-4e2e-ac5e-cd8833f06d45"
      },
      "execution_count": 10,
      "outputs": [
        {
          "output_type": "stream",
          "name": "stdout",
          "text": [
            "\n",
            "Long long time ago, there lived a lion called Lezzi. Ond day, he met a boy who...\n",
            "\n"
          ]
        }
      ]
    },
    {
      "cell_type": "markdown",
      "source": [
        "# An example of a list"
      ],
      "metadata": {
        "id": "Lvinsk9xBkdp"
      }
    },
    {
      "cell_type": "code",
      "source": [
        "favorite_books = [\"To kill a Mockingbird\", \"1984\", \"The Great Gatsby\"]\n",
        "print(\"Favorite Books:\", favorite_books)"
      ],
      "metadata": {
        "colab": {
          "base_uri": "https://localhost:8080/"
        },
        "id": "yKjRUnegBmDC",
        "outputId": "7ec6669f-4b91-4896-9561-201d29fab707"
      },
      "execution_count": 11,
      "outputs": [
        {
          "output_type": "stream",
          "name": "stdout",
          "text": [
            "Favorite Books: ['To kill a Mockingbird', '1984', 'The Great Gatsby']\n"
          ]
        }
      ]
    },
    {
      "cell_type": "markdown",
      "source": [
        "# An example of a dictionary"
      ],
      "metadata": {
        "id": "z4EGbMsaCWi4"
      }
    },
    {
      "cell_type": "code",
      "source": [
        "student_grades = {\"Alice\": 90, \"Bob\": 85, \"Charlie\": 95}\n",
        "print(\"Student Grades:\", student_grades)"
      ],
      "metadata": {
        "colab": {
          "base_uri": "https://localhost:8080/"
        },
        "id": "ElHWCJJMCgvj",
        "outputId": "cb22772d-6157-4e45-8621-b7eae0336882"
      },
      "execution_count": 12,
      "outputs": [
        {
          "output_type": "stream",
          "name": "stdout",
          "text": [
            "Student Grades: {'Alice': 90, 'Bob': 85, 'Charlie': 95}\n"
          ]
        }
      ]
    },
    {
      "cell_type": "code",
      "source": [
        "# Return Alice's grade\n",
        "student_grades['Alice']"
      ],
      "metadata": {
        "colab": {
          "base_uri": "https://localhost:8080/"
        },
        "id": "K9fy-FAuCrzP",
        "outputId": "72742661-bcb3-40b7-ea45-a697ebddb847"
      },
      "execution_count": 13,
      "outputs": [
        {
          "output_type": "execute_result",
          "data": {
            "text/plain": [
              "90"
            ]
          },
          "metadata": {},
          "execution_count": 13
        }
      ]
    },
    {
      "cell_type": "markdown",
      "source": [
        "# An example of a tuple"
      ],
      "metadata": {
        "id": "2oBs5B_5C1eT"
      }
    },
    {
      "cell_type": "code",
      "source": [
        "months_of_the_year = (\"January\", \"February\", \"March\", \"April\")\n",
        "print(\"Months of the Year:\", months_of_the_year)"
      ],
      "metadata": {
        "colab": {
          "base_uri": "https://localhost:8080/"
        },
        "id": "eeGXRUx1C5zu",
        "outputId": "7995172e-5e96-4002-cb05-ed7c180d9c49"
      },
      "execution_count": 14,
      "outputs": [
        {
          "output_type": "stream",
          "name": "stdout",
          "text": [
            "Months of the Year: ('January', 'February', 'March', 'April')\n"
          ]
        }
      ]
    }
  ]
}