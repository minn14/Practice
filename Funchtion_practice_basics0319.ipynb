{
  "nbformat": 4,
  "nbformat_minor": 0,
  "metadata": {
    "colab": {
      "provenance": [],
      "authorship_tag": "ABX9TyNjqsWVIHVi/pElkZvI2wbT",
      "include_colab_link": true
    },
    "kernelspec": {
      "name": "python3",
      "display_name": "Python 3"
    },
    "language_info": {
      "name": "python"
    }
  },
  "cells": [
    {
      "cell_type": "markdown",
      "metadata": {
        "id": "view-in-github",
        "colab_type": "text"
      },
      "source": [
        "<a href=\"https://colab.research.google.com/github/minn14/Practice/blob/main/Funchtion_practice_basics0319.ipynb\" target=\"_parent\"><img src=\"https://colab.research.google.com/assets/colab-badge.svg\" alt=\"Open In Colab\"/></a>"
      ]
    },
    {
      "cell_type": "markdown",
      "source": [
        "# Built-in function practice & simple app using Gradio (Mar.19)"
      ],
      "metadata": {
        "id": "3MOOoOCWC1Ho"
      }
    },
    {
      "cell_type": "code",
      "source": [
        "# input()\n",
        "user_text = input()"
      ],
      "metadata": {
        "colab": {
          "base_uri": "https://localhost:8080/"
        },
        "id": "uuszQoEBDIpt",
        "outputId": "3c8c5903-cae0-4b7e-90dc-4fcd5c581da8"
      },
      "execution_count": null,
      "outputs": [
        {
          "name": "stdout",
          "output_type": "stream",
          "text": [
            "Djk\n"
          ]
        }
      ]
    },
    {
      "cell_type": "code",
      "source": [
        "# input()\n",
        "print(user_text)"
      ],
      "metadata": {
        "id": "1ZHGjxQpDZDY"
      },
      "execution_count": null,
      "outputs": []
    },
    {
      "cell_type": "code",
      "source": [
        "# variable.split()\n",
        "user_text.split()"
      ],
      "metadata": {
        "id": "FXdcb6VODg7f"
      },
      "execution_count": null,
      "outputs": []
    },
    {
      "cell_type": "code",
      "source": [
        "# input()\n",
        "\n",
        "print(\"You've typed:\", \"example\")"
      ],
      "metadata": {
        "id": "6nJRu1WGDxFK"
      },
      "execution_count": null,
      "outputs": []
    },
    {
      "cell_type": "code",
      "source": [
        "print(\"You've typed:\", \"example\")"
      ],
      "metadata": {
        "id": "AMOfCu6bEHsI"
      },
      "execution_count": null,
      "outputs": []
    },
    {
      "cell_type": "code",
      "source": [
        "len(\"Hello\")"
      ],
      "metadata": {
        "id": "frPop0qeEOkF"
      },
      "execution_count": null,
      "outputs": []
    },
    {
      "cell_type": "code",
      "source": [
        "mytext = \"Hello\"\n",
        "print(len(mytext))"
      ],
      "metadata": {
        "id": "PlivxAFvERVj"
      },
      "execution_count": null,
      "outputs": []
    },
    {
      "cell_type": "markdown",
      "source": [
        "## F-string (Python3.6)"
      ],
      "metadata": {
        "id": "31SWCshqEnwr"
      }
    },
    {
      "cell_type": "code",
      "source": [
        "# using F-string\n",
        "\n",
        "name = \"Alice\"\n",
        "age = 25\n",
        "\n",
        "print(f\"The name is {name} and I'm {age} years old\")"
      ],
      "metadata": {
        "colab": {
          "base_uri": "https://localhost:8080/"
        },
        "id": "BDiV_K9AFiG-",
        "outputId": "f2d62912-9a29-4bc2-abc9-185b6ca249db"
      },
      "execution_count": null,
      "outputs": [
        {
          "output_type": "stream",
          "name": "stdout",
          "text": [
            "The name is Alice and I'm 25 years old\n"
          ]
        }
      ]
    },
    {
      "cell_type": "markdown",
      "source": [
        "# Practice Python function"
      ],
      "metadata": {
        "id": "uEX6wFayGaoI"
      }
    },
    {
      "cell_type": "code",
      "source": [
        "def count_words(sent):\n",
        "  sent_split = sent.split()\n",
        "  sent_len = len(sent_split)\n",
        "  return sent_len\n",
        "\n",
        "  count_words(\"This is a test sentence.\")\n"
      ],
      "metadata": {
        "id": "vmSUAGUmGgIc"
      },
      "execution_count": null,
      "outputs": []
    },
    {
      "cell_type": "markdown",
      "source": [
        "# Using Gradio"
      ],
      "metadata": {
        "id": "-omYMJMuIaUN"
      }
    },
    {
      "cell_type": "code",
      "source": [
        "# install library\n",
        "%%capture\n",
        "!pip install gradio"
      ],
      "metadata": {
        "id": "-dX7d87LI0hu"
      },
      "execution_count": 17,
      "outputs": []
    },
    {
      "cell_type": "code",
      "source": [
        "# App code\n",
        "import gradio as gr\n",
        "\n",
        "# Define function\n",
        "def count_words(sent):\n",
        "  sent_split = sent.split()\n",
        "  sent_len = len(sent_split)\n",
        "  return sent_len\n",
        "\n",
        "# Create the Gradio app\n",
        "app = gr.Interface(\n",
        "    fn=count_words,\n",
        "    inputs=gr.Textbox(),\n",
        "    outputs=gr.Textbox(),\n",
        ")\n",
        "\n",
        "# Run the application\n",
        "app.launch()"
      ],
      "metadata": {
        "colab": {
          "base_uri": "https://localhost:8080/",
          "height": 649
        },
        "id": "3dZQ6_gBJJK4",
        "outputId": "11703809-74ff-457f-dcdb-d78e344bdcc5"
      },
      "execution_count": 18,
      "outputs": [
        {
          "output_type": "stream",
          "name": "stdout",
          "text": [
            "Running Gradio in a Colab notebook requires sharing enabled. Automatically setting `share=True` (you can turn this off by setting `share=False` in `launch()` explicitly).\n",
            "\n",
            "Colab notebook detected. To show errors in colab notebook, set debug=True in launch()\n",
            "* Running on public URL: https://cea1c1eba0dd794ba6.gradio.live\n",
            "\n",
            "This share link expires in 72 hours. For free permanent hosting and GPU upgrades, run `gradio deploy` from the terminal in the working directory to deploy to Hugging Face Spaces (https://huggingface.co/spaces)\n"
          ]
        },
        {
          "output_type": "display_data",
          "data": {
            "text/plain": [
              "<IPython.core.display.HTML object>"
            ],
            "text/html": [
              "<div><iframe src=\"https://cea1c1eba0dd794ba6.gradio.live\" width=\"100%\" height=\"500\" allow=\"autoplay; camera; microphone; clipboard-read; clipboard-write;\" frameborder=\"0\" allowfullscreen></iframe></div>"
            ]
          },
          "metadata": {}
        },
        {
          "output_type": "execute_result",
          "data": {
            "text/plain": []
          },
          "metadata": {},
          "execution_count": 18
        }
      ]
    }
  ]
}