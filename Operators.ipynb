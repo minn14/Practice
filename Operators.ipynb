{
  "nbformat": 4,
  "nbformat_minor": 0,
  "metadata": {
    "colab": {
      "provenance": [],
      "authorship_tag": "ABX9TyPbLLPiR9dfYVOnuRMkuQjQ",
      "include_colab_link": true
    },
    "kernelspec": {
      "name": "python3",
      "display_name": "Python 3"
    },
    "language_info": {
      "name": "python"
    }
  },
  "cells": [
    {
      "cell_type": "markdown",
      "metadata": {
        "id": "view-in-github",
        "colab_type": "text"
      },
      "source": [
        "<a href=\"https://colab.research.google.com/github/minn14/Practice/blob/main/Operators.ipynb\" target=\"_parent\"><img src=\"https://colab.research.google.com/assets/colab-badge.svg\" alt=\"Open In Colab\"/></a>"
      ]
    },
    {
      "cell_type": "markdown",
      "source": [
        "# Lesson 3 Review and 3.4 ~\n"
      ],
      "metadata": {
        "id": "_KjIp4tjTXtl"
      }
    },
    {
      "cell_type": "code",
      "source": [
        "your_name = input(\"Hi, what's your name?\")\n",
        "print(f\"Hello, {your_name}! Nice to meet you.\")\n",
        "hometown = input(\"Where are you from?\")\n",
        "print(f\"You're from {hometown}. Oh! I'm from {hometown} too! Glad to talk to you.\")\n"
      ],
      "metadata": {
        "colab": {
          "base_uri": "https://localhost:8080/"
        },
        "id": "yTSfTYF8XU1x",
        "outputId": "f7724771-17f3-48c2-ef7c-ee2016be8d31"
      },
      "execution_count": null,
      "outputs": [
        {
          "output_type": "stream",
          "name": "stdout",
          "text": [
            "Hi, what's your name?Minchae\n",
            "Hello, Minchae! Nice to meet you.\n",
            "Where are you from?Geoju\n",
            "You're from Geoju. Oh! I'm from Geoju too! Glad to talk to you.\n"
          ]
        }
      ]
    },
    {
      "cell_type": "markdown",
      "source": [
        "# 3.4A Operator practice"
      ],
      "metadata": {
        "id": "oyIydZbN-Yvp"
      }
    },
    {
      "cell_type": "code",
      "source": [
        "def calculator():\n",
        "    print(\"Welcome to the Simple Calculator!\")\n",
        "    print(\"You can perform addition, subtraction, multiplication, and division.\\n\")\n",
        "\n",
        "    # Get the first number from the user\n",
        "    x = float(input(\"Enter the first number (x): \"))\n",
        "\n",
        "    # Get the operation from the user\n",
        "    operation = input(\"Choose the operation (+, -, *, /): \")\n",
        "\n",
        "    # Get the second number from the user\n",
        "    y = float(input(\"Enter the second number (y): \"))\n",
        "\n",
        "    # Perform the calculation based on the operation\n",
        "    if operation == '+':\n",
        "        result = x + y\n",
        "        print(f\"The result of {x} + {y} is {result}.\")\n",
        "    elif operation == '-':\n",
        "        result = x - y\n",
        "        print(f\"The result of {x} - {y} is {result}.\")\n",
        "    elif operation == '*':\n",
        "        result = x * y\n",
        "        print(f\"The result of {x} * {y} is {result}.\")\n",
        "    elif operation == '/':\n",
        "        # Check if the second number is not zero to avoid division by zero error\n",
        "        if y != 0:\n",
        "            result = x / y\n",
        "            print(f\"The result of {x} / {y} is {result}.\")\n",
        "        else:\n",
        "            print(\"Division by zero is not allowed.\")\n",
        "    else:\n",
        "        print(\"Invalid operation. Please select one of +, -, *, or /.\")\n",
        "\n",
        "# Run the calculator\n",
        "calculator()"
      ],
      "metadata": {
        "colab": {
          "base_uri": "https://localhost:8080/"
        },
        "id": "AEVeOSxXa63N",
        "outputId": "124c15dd-4bea-40a7-f3fe-fa016704f61b"
      },
      "execution_count": null,
      "outputs": [
        {
          "output_type": "stream",
          "name": "stdout",
          "text": [
            "Welcome to the Simple Calculator!\n",
            "You can perform addition, subtraction, multiplication, and division.\n",
            "\n",
            "Enter the first number (x): 487209\n",
            "Choose the operation (+, -, *, /): *\n",
            "Enter the second number (y): 3848\n",
            "The result of 487209.0 * 3848.0 is 1874780232.0.\n"
          ]
        }
      ]
    },
    {
      "cell_type": "markdown",
      "source": [
        "Sample application"
      ],
      "metadata": {
        "id": "6-YNlr66-jec"
      }
    },
    {
      "cell_type": "code",
      "source": [
        "!pip install gradio"
      ],
      "metadata": {
        "id": "qNoPYSJfb6Oy",
        "colab": {
          "base_uri": "https://localhost:8080/"
        },
        "outputId": "efbd7299-b651-4005-b0e9-3e0701afd6f0"
      },
      "execution_count": null,
      "outputs": [
        {
          "output_type": "stream",
          "name": "stdout",
          "text": [
            "Collecting gradio\n",
            "  Downloading gradio-5.22.0-py3-none-any.whl.metadata (16 kB)\n",
            "Collecting aiofiles<24.0,>=22.0 (from gradio)\n",
            "  Downloading aiofiles-23.2.1-py3-none-any.whl.metadata (9.7 kB)\n",
            "Requirement already satisfied: anyio<5.0,>=3.0 in /usr/local/lib/python3.11/dist-packages (from gradio) (3.7.1)\n",
            "Collecting fastapi<1.0,>=0.115.2 (from gradio)\n",
            "  Downloading fastapi-0.115.11-py3-none-any.whl.metadata (27 kB)\n",
            "Collecting ffmpy (from gradio)\n",
            "  Downloading ffmpy-0.5.0-py3-none-any.whl.metadata (3.0 kB)\n",
            "Collecting gradio-client==1.8.0 (from gradio)\n",
            "  Downloading gradio_client-1.8.0-py3-none-any.whl.metadata (7.1 kB)\n",
            "Collecting groovy~=0.1 (from gradio)\n",
            "  Downloading groovy-0.1.2-py3-none-any.whl.metadata (6.1 kB)\n",
            "Requirement already satisfied: httpx>=0.24.1 in /usr/local/lib/python3.11/dist-packages (from gradio) (0.28.1)\n",
            "Requirement already satisfied: huggingface-hub>=0.28.1 in /usr/local/lib/python3.11/dist-packages (from gradio) (0.28.1)\n",
            "Requirement already satisfied: jinja2<4.0 in /usr/local/lib/python3.11/dist-packages (from gradio) (3.1.6)\n",
            "Requirement already satisfied: markupsafe<4.0,>=2.0 in /usr/local/lib/python3.11/dist-packages (from gradio) (3.0.2)\n",
            "Requirement already satisfied: numpy<3.0,>=1.0 in /usr/local/lib/python3.11/dist-packages (from gradio) (2.0.2)\n",
            "Requirement already satisfied: orjson~=3.0 in /usr/local/lib/python3.11/dist-packages (from gradio) (3.10.15)\n",
            "Requirement already satisfied: packaging in /usr/local/lib/python3.11/dist-packages (from gradio) (24.2)\n",
            "Requirement already satisfied: pandas<3.0,>=1.0 in /usr/local/lib/python3.11/dist-packages (from gradio) (2.2.2)\n",
            "Requirement already satisfied: pillow<12.0,>=8.0 in /usr/local/lib/python3.11/dist-packages (from gradio) (11.1.0)\n",
            "Requirement already satisfied: pydantic>=2.0 in /usr/local/lib/python3.11/dist-packages (from gradio) (2.10.6)\n",
            "Collecting pydub (from gradio)\n",
            "  Downloading pydub-0.25.1-py2.py3-none-any.whl.metadata (1.4 kB)\n",
            "Collecting python-multipart>=0.0.18 (from gradio)\n",
            "  Downloading python_multipart-0.0.20-py3-none-any.whl.metadata (1.8 kB)\n",
            "Requirement already satisfied: pyyaml<7.0,>=5.0 in /usr/local/lib/python3.11/dist-packages (from gradio) (6.0.2)\n",
            "Collecting ruff>=0.9.3 (from gradio)\n",
            "  Downloading ruff-0.11.0-py3-none-manylinux_2_17_x86_64.manylinux2014_x86_64.whl.metadata (25 kB)\n",
            "Collecting safehttpx<0.2.0,>=0.1.6 (from gradio)\n",
            "  Downloading safehttpx-0.1.6-py3-none-any.whl.metadata (4.2 kB)\n",
            "Collecting semantic-version~=2.0 (from gradio)\n",
            "  Downloading semantic_version-2.10.0-py2.py3-none-any.whl.metadata (9.7 kB)\n",
            "Collecting starlette<1.0,>=0.40.0 (from gradio)\n",
            "  Downloading starlette-0.46.1-py3-none-any.whl.metadata (6.2 kB)\n",
            "Collecting tomlkit<0.14.0,>=0.12.0 (from gradio)\n",
            "  Downloading tomlkit-0.13.2-py3-none-any.whl.metadata (2.7 kB)\n",
            "Requirement already satisfied: typer<1.0,>=0.12 in /usr/local/lib/python3.11/dist-packages (from gradio) (0.15.2)\n",
            "Requirement already satisfied: typing-extensions~=4.0 in /usr/local/lib/python3.11/dist-packages (from gradio) (4.12.2)\n",
            "Collecting uvicorn>=0.14.0 (from gradio)\n",
            "  Downloading uvicorn-0.34.0-py3-none-any.whl.metadata (6.5 kB)\n",
            "Requirement already satisfied: fsspec in /usr/local/lib/python3.11/dist-packages (from gradio-client==1.8.0->gradio) (2024.10.0)\n",
            "Requirement already satisfied: websockets<16.0,>=10.0 in /usr/local/lib/python3.11/dist-packages (from gradio-client==1.8.0->gradio) (14.2)\n",
            "Requirement already satisfied: idna>=2.8 in /usr/local/lib/python3.11/dist-packages (from anyio<5.0,>=3.0->gradio) (3.10)\n",
            "Requirement already satisfied: sniffio>=1.1 in /usr/local/lib/python3.11/dist-packages (from anyio<5.0,>=3.0->gradio) (1.3.1)\n",
            "Requirement already satisfied: certifi in /usr/local/lib/python3.11/dist-packages (from httpx>=0.24.1->gradio) (2025.1.31)\n",
            "Requirement already satisfied: httpcore==1.* in /usr/local/lib/python3.11/dist-packages (from httpx>=0.24.1->gradio) (1.0.7)\n",
            "Requirement already satisfied: h11<0.15,>=0.13 in /usr/local/lib/python3.11/dist-packages (from httpcore==1.*->httpx>=0.24.1->gradio) (0.14.0)\n",
            "Requirement already satisfied: filelock in /usr/local/lib/python3.11/dist-packages (from huggingface-hub>=0.28.1->gradio) (3.17.0)\n",
            "Requirement already satisfied: requests in /usr/local/lib/python3.11/dist-packages (from huggingface-hub>=0.28.1->gradio) (2.32.3)\n",
            "Requirement already satisfied: tqdm>=4.42.1 in /usr/local/lib/python3.11/dist-packages (from huggingface-hub>=0.28.1->gradio) (4.67.1)\n",
            "Requirement already satisfied: python-dateutil>=2.8.2 in /usr/local/lib/python3.11/dist-packages (from pandas<3.0,>=1.0->gradio) (2.8.2)\n",
            "Requirement already satisfied: pytz>=2020.1 in /usr/local/lib/python3.11/dist-packages (from pandas<3.0,>=1.0->gradio) (2025.1)\n",
            "Requirement already satisfied: tzdata>=2022.7 in /usr/local/lib/python3.11/dist-packages (from pandas<3.0,>=1.0->gradio) (2025.1)\n",
            "Requirement already satisfied: annotated-types>=0.6.0 in /usr/local/lib/python3.11/dist-packages (from pydantic>=2.0->gradio) (0.7.0)\n",
            "Requirement already satisfied: pydantic-core==2.27.2 in /usr/local/lib/python3.11/dist-packages (from pydantic>=2.0->gradio) (2.27.2)\n",
            "Requirement already satisfied: click>=8.0.0 in /usr/local/lib/python3.11/dist-packages (from typer<1.0,>=0.12->gradio) (8.1.8)\n",
            "Requirement already satisfied: shellingham>=1.3.0 in /usr/local/lib/python3.11/dist-packages (from typer<1.0,>=0.12->gradio) (1.5.4)\n",
            "Requirement already satisfied: rich>=10.11.0 in /usr/local/lib/python3.11/dist-packages (from typer<1.0,>=0.12->gradio) (13.9.4)\n",
            "Requirement already satisfied: six>=1.5 in /usr/local/lib/python3.11/dist-packages (from python-dateutil>=2.8.2->pandas<3.0,>=1.0->gradio) (1.17.0)\n",
            "Requirement already satisfied: markdown-it-py>=2.2.0 in /usr/local/lib/python3.11/dist-packages (from rich>=10.11.0->typer<1.0,>=0.12->gradio) (3.0.0)\n",
            "Requirement already satisfied: pygments<3.0.0,>=2.13.0 in /usr/local/lib/python3.11/dist-packages (from rich>=10.11.0->typer<1.0,>=0.12->gradio) (2.18.0)\n",
            "Requirement already satisfied: charset-normalizer<4,>=2 in /usr/local/lib/python3.11/dist-packages (from requests->huggingface-hub>=0.28.1->gradio) (3.4.1)\n",
            "Requirement already satisfied: urllib3<3,>=1.21.1 in /usr/local/lib/python3.11/dist-packages (from requests->huggingface-hub>=0.28.1->gradio) (2.3.0)\n",
            "Requirement already satisfied: mdurl~=0.1 in /usr/local/lib/python3.11/dist-packages (from markdown-it-py>=2.2.0->rich>=10.11.0->typer<1.0,>=0.12->gradio) (0.1.2)\n",
            "Downloading gradio-5.22.0-py3-none-any.whl (46.2 MB)\n",
            "\u001b[2K   \u001b[90m━━━━━━━━━━━━━━━━━━━━━━━━━━━━━━━━━━━━━━━━\u001b[0m \u001b[32m46.2/46.2 MB\u001b[0m \u001b[31m14.9 MB/s\u001b[0m eta \u001b[36m0:00:00\u001b[0m\n",
            "\u001b[?25hDownloading gradio_client-1.8.0-py3-none-any.whl (322 kB)\n",
            "\u001b[2K   \u001b[90m━━━━━━━━━━━━━━━━━━━━━━━━━━━━━━━━━━━━━━━━\u001b[0m \u001b[32m322.2/322.2 kB\u001b[0m \u001b[31m13.0 MB/s\u001b[0m eta \u001b[36m0:00:00\u001b[0m\n",
            "\u001b[?25hDownloading aiofiles-23.2.1-py3-none-any.whl (15 kB)\n",
            "Downloading fastapi-0.115.11-py3-none-any.whl (94 kB)\n",
            "\u001b[2K   \u001b[90m━━━━━━━━━━━━━━━━━━━━━━━━━━━━━━━━━━━━━━━━\u001b[0m \u001b[32m94.9/94.9 kB\u001b[0m \u001b[31m6.1 MB/s\u001b[0m eta \u001b[36m0:00:00\u001b[0m\n",
            "\u001b[?25hDownloading groovy-0.1.2-py3-none-any.whl (14 kB)\n",
            "Downloading python_multipart-0.0.20-py3-none-any.whl (24 kB)\n",
            "Downloading ruff-0.11.0-py3-none-manylinux_2_17_x86_64.manylinux2014_x86_64.whl (11.3 MB)\n",
            "\u001b[2K   \u001b[90m━━━━━━━━━━━━━━━━━━━━━━━━━━━━━━━━━━━━━━━━\u001b[0m \u001b[32m11.3/11.3 MB\u001b[0m \u001b[31m72.0 MB/s\u001b[0m eta \u001b[36m0:00:00\u001b[0m\n",
            "\u001b[?25hDownloading safehttpx-0.1.6-py3-none-any.whl (8.7 kB)\n",
            "Downloading semantic_version-2.10.0-py2.py3-none-any.whl (15 kB)\n",
            "Downloading starlette-0.46.1-py3-none-any.whl (71 kB)\n",
            "\u001b[2K   \u001b[90m━━━━━━━━━━━━━━━━━━━━━━━━━━━━━━━━━━━━━━━━\u001b[0m \u001b[32m72.0/72.0 kB\u001b[0m \u001b[31m4.2 MB/s\u001b[0m eta \u001b[36m0:00:00\u001b[0m\n",
            "\u001b[?25hDownloading tomlkit-0.13.2-py3-none-any.whl (37 kB)\n",
            "Downloading uvicorn-0.34.0-py3-none-any.whl (62 kB)\n",
            "\u001b[2K   \u001b[90m━━━━━━━━━━━━━━━━━━━━━━━━━━━━━━━━━━━━━━━━\u001b[0m \u001b[32m62.3/62.3 kB\u001b[0m \u001b[31m3.3 MB/s\u001b[0m eta \u001b[36m0:00:00\u001b[0m\n",
            "\u001b[?25hDownloading ffmpy-0.5.0-py3-none-any.whl (6.0 kB)\n",
            "Downloading pydub-0.25.1-py2.py3-none-any.whl (32 kB)\n",
            "Installing collected packages: pydub, uvicorn, tomlkit, semantic-version, ruff, python-multipart, groovy, ffmpy, aiofiles, starlette, safehttpx, gradio-client, fastapi, gradio\n",
            "Successfully installed aiofiles-23.2.1 fastapi-0.115.11 ffmpy-0.5.0 gradio-5.22.0 gradio-client-1.8.0 groovy-0.1.2 pydub-0.25.1 python-multipart-0.0.20 ruff-0.11.0 safehttpx-0.1.6 semantic-version-2.10.0 starlette-0.46.1 tomlkit-0.13.2 uvicorn-0.34.0\n"
          ]
        }
      ]
    },
    {
      "cell_type": "markdown",
      "source": [
        "# 3.4B Comparison operators"
      ],
      "metadata": {
        "id": "N7Kzar1u-xoR"
      }
    },
    {
      "cell_type": "markdown",
      "source": [
        "Sample app 2\n"
      ],
      "metadata": {
        "id": "vNly_7T4-2vD"
      }
    },
    {
      "cell_type": "code",
      "source": [
        "#@markdown 🌀 Number guessing game\n",
        "\n",
        "import random\n",
        "\n",
        "def number_guessing_game():\n",
        "    print(\"Welcome to the Number Guessing Game!\")\n",
        "    print(\"I'm thinking of a number between 1 and 100.\")\n",
        "\n",
        "    # Generate a random number between 1 and 100\n",
        "    target_number = random.randint(1, 100)\n",
        "\n",
        "    # Initialize the guess variable with a value that cannot be the target\n",
        "    guess = 0\n",
        "    trials = 0  # Initialize the trials counter\n",
        "\n",
        "    # Continue to ask for guesses until the user guesses the target number\n",
        "    while guess != target_number:\n",
        "        # Get the user's guess\n",
        "        guess = int(input(\"Enter your guess: \"))\n",
        "        trials += 1  # Increment the trial counter each time the user makes a guess\n",
        "\n",
        "        # Provide feedback based on the guess\n",
        "        if guess < target_number:\n",
        "            print(\"It's greater than that.\")\n",
        "        elif guess > target_number:\n",
        "            print(\"It's less than that.\")\n",
        "\n",
        "    # When the guess is correct, print the congratulatory message with the number of trials\n",
        "    print(f\"Congratulations! You guessed the number correctly after {trials} {'trial' if trials == 1 else 'trials'}.\")\n",
        "\n",
        "number_guessing_game()"
      ],
      "metadata": {
        "cellView": "form",
        "colab": {
          "base_uri": "https://localhost:8080/"
        },
        "id": "0_FtQhOh-4_r",
        "outputId": "6098ec0a-6886-41c3-fa5b-f05d24da90f1"
      },
      "execution_count": 16,
      "outputs": [
        {
          "output_type": "stream",
          "name": "stdout",
          "text": [
            "Welcome to the Number Guessing Game!\n",
            "I'm thinking of a number between 1 and 100.\n",
            "Enter your guess: 50\n",
            "It's greater than that.\n",
            "Enter your guess: 60\n",
            "It's less than that.\n",
            "Enter your guess: 66\n",
            "It's less than that.\n",
            "Enter your guess: 65\n",
            "It's less than that.\n",
            "Enter your guess: 64\n",
            "It's less than that.\n",
            "Enter your guess: 58\n",
            "It's less than that.\n",
            "Enter your guess: 57\n",
            "It's less than that.\n",
            "Enter your guess: 56\n",
            "It's less than that.\n",
            "Enter your guess: 55\n",
            "It's less than that.\n",
            "Enter your guess: 54\n",
            "Congratulations! You guessed the number correctly after 10 trials.\n"
          ]
        }
      ]
    },
    {
      "cell_type": "markdown",
      "source": [
        "# 3.4C Logical operators"
      ],
      "metadata": {
        "id": "emhbcYVj_WKw"
      }
    },
    {
      "cell_type": "code",
      "source": [
        "# Logical Operators in Python\n",
        "\n",
        "# Variables for the examples\n",
        "x = True\n",
        "y = False\n",
        "\n",
        "# The 'and' operator returns True only if both operands are true\n",
        "result_and = x and y\n",
        "print(\"x and y is\", result_and)  # Output will be False because y is False\n",
        "\n",
        "# The 'or' operator returns True if at least one of the operands is true\n",
        "result_or = x or y\n",
        "print(\"x or y is\", result_or)  # Output will be True because x is True\n",
        "\n",
        "# The 'not' operator returns True if the operand is false\n",
        "result_not = not x\n",
        "print(\"not x is\", result_not)  # Output will be False because x is True\n",
        "\n",
        "\n"
      ],
      "metadata": {
        "id": "BB9T1RNq_Z__"
      },
      "execution_count": null,
      "outputs": []
    },
    {
      "cell_type": "markdown",
      "source": [
        "Sample app 3"
      ],
      "metadata": {
        "id": "ir3X_hAl_lC8"
      }
    },
    {
      "cell_type": "code",
      "source": [
        "\n",
        "\n",
        "#@markdown 🌀 Word guessing app\n",
        "\n",
        "import gradio as gr\n",
        "import random\n",
        "\n",
        "# Dictionary of words and their hints\n",
        "words_data = {\n",
        "    \"mountain\": [\"a group of trees\", \"First letter: M\" \"Number of letters: 8\"],\n",
        "    \"python\": [\"a high-level programming language\", \"First letter: P\", \"Number of letters: 6\"],\n",
        "    \"galaxy\": [\"a system of stars and planets\", \"First letter: G\", \"Number of letters: 6\"],\n",
        "    \"ocean\": [\"a large body of salt water\", \"First letter: O\", \"Number of letters: 5\"],\n",
        "    \"quasar\": [\"a very energetic and distant active galactic nucleus\", \"First letter: Q\", \"Number of letters: 6\"],\n",
        "    \"volcano\": [\"a mountain or hill with a crater which lava, rock fragments, hot vapor and gas eruptions come from the earth's crust\", \"First letter: V\", \"Number of letters: 7\"]\n",
        "}\n",
        "\n",
        "current_word = \"\"\n",
        "hints = []\n",
        "hint_index = 0\n",
        "\n",
        "def start_game():\n",
        "    global current_word, hints, hint_index\n",
        "    current_word, hints = random.choice(list(words_data.items()))\n",
        "    hint_index = 0\n",
        "    return \"\\n\".join(hints[:1])  # Show only the first hint initially\n",
        "\n",
        "def more_hint():\n",
        "    global hint_index\n",
        "    if hint_index < len(hints) - 1:\n",
        "        hint_index += 1\n",
        "    return \"\\n\".join(hints[:hint_index + 1])\n",
        "\n",
        "def show_feedback(guess):\n",
        "    global current_word, hints, hint_index\n",
        "    if guess.lower() == current_word.lower():\n",
        "        current_word, hints = random.choice(list(words_data.items()))  # Reset for new word\n",
        "        hint_index = 0\n",
        "        return f\"Correct! The word was '{current_word}'. New word selected, press 'Start Game' to play again.\", \"\"\n",
        "    else:\n",
        "        if hint_index < len(hints) - 1:\n",
        "            return \"Incorrect! Try again.\", \"\\n\".join(hints[:hint_index + 1])\n",
        "        else:\n",
        "            return f\"Incorrect! The correct word was '{current_word}'. New word selected, press 'Start Game' to play again.\", \"\"\n",
        "\n",
        "def setup_interface():\n",
        "    with gr.Blocks() as iface:\n",
        "        gr.Markdown(\"### Word Guessing Game\")\n",
        "        gr.Markdown(\"Try to guess the word based on the hints provided!\")\n",
        "        with gr.Row():\n",
        "            start_button = gr.Button(\"Start Game\")\n",
        "            more_hint_button = gr.Button(\"More Hint\")\n",
        "        hint_display = gr.Textbox(label=\"Hint\", lines=3, interactive=False)\n",
        "        guess_input = gr.Textbox(label=\"Enter your guess here\")\n",
        "        submit_button = gr.Button(\"Show Feedback\")\n",
        "        result_display = gr.Textbox(label=\"Result\", lines=2, interactive=False)\n",
        "        start_button.click(fn=start_game, outputs=hint_display)\n",
        "        more_hint_button.click(fn=more_hint, outputs=hint_display)\n",
        "        submit_button.click(fn=show_feedback, inputs=guess_input, outputs=[result_display, hint_display])\n",
        "\n",
        "    iface.launch()\n",
        "\n",
        "if __name__ == \"__main__\":\n",
        "    setup_interface()\n"
      ],
      "metadata": {
        "cellView": "form",
        "colab": {
          "base_uri": "https://localhost:8080/",
          "height": 649
        },
        "id": "5QBaX92r_m4M",
        "outputId": "83422726-b112-4cb5-c57a-344f8d093e10"
      },
      "execution_count": 18,
      "outputs": [
        {
          "output_type": "stream",
          "name": "stdout",
          "text": [
            "Running Gradio in a Colab notebook requires sharing enabled. Automatically setting `share=True` (you can turn this off by setting `share=False` in `launch()` explicitly).\n",
            "\n",
            "Colab notebook detected. To show errors in colab notebook, set debug=True in launch()\n",
            "* Running on public URL: https://9172d00973f53e728d.gradio.live\n",
            "\n",
            "This share link expires in 72 hours. For free permanent hosting and GPU upgrades, run `gradio deploy` from the terminal in the working directory to deploy to Hugging Face Spaces (https://huggingface.co/spaces)\n"
          ]
        },
        {
          "output_type": "display_data",
          "data": {
            "text/plain": [
              "<IPython.core.display.HTML object>"
            ],
            "text/html": [
              "<div><iframe src=\"https://9172d00973f53e728d.gradio.live\" width=\"100%\" height=\"500\" allow=\"autoplay; camera; microphone; clipboard-read; clipboard-write;\" frameborder=\"0\" allowfullscreen></iframe></div>"
            ]
          },
          "metadata": {}
        }
      ]
    }
  ]
}