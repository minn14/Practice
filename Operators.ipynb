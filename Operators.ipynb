{
  "nbformat": 4,
  "nbformat_minor": 0,
  "metadata": {
    "colab": {
      "provenance": [],
      "authorship_tag": "ABX9TyNfsarggPcZFsTyiWjAWhq8",
      "include_colab_link": true
    },
    "kernelspec": {
      "name": "python3",
      "display_name": "Python 3"
    },
    "language_info": {
      "name": "python"
    }
  },
  "cells": [
    {
      "cell_type": "markdown",
      "metadata": {
        "id": "view-in-github",
        "colab_type": "text"
      },
      "source": [
        "<a href=\"https://colab.research.google.com/github/minn14/Practice/blob/main/Untitled1.ipynb\" target=\"_parent\"><img src=\"https://colab.research.google.com/assets/colab-badge.svg\" alt=\"Open In Colab\"/></a>"
      ]
    },
    {
      "cell_type": "markdown",
      "source": [
        "# Lesson 3 Review and 3.4\n"
      ],
      "metadata": {
        "id": "_KjIp4tjTXtl"
      }
    },
    {
      "cell_type": "code",
      "source": [
        "your_name = input(\"Hi, what's your name?\")\n",
        "print(f\"Hello, {your_name}! Nice to meet you.\")\n",
        "hometown = input(\"Where are you from?\")\n",
        "print(f\"You're from {hometown}. Oh! I'm from {hometown} too! Glad to talk to you.\")\n"
      ],
      "metadata": {
        "colab": {
          "base_uri": "https://localhost:8080/"
        },
        "id": "yTSfTYF8XU1x",
        "outputId": "f7724771-17f3-48c2-ef7c-ee2016be8d31"
      },
      "execution_count": 3,
      "outputs": [
        {
          "output_type": "stream",
          "name": "stdout",
          "text": [
            "Hi, what's your name?Minchae\n",
            "Hello, Minchae! Nice to meet you.\n",
            "Where are you from?Geoju\n",
            "You're from Geoju. Oh! I'm from Geoju too! Glad to talk to you.\n"
          ]
        }
      ]
    },
    {
      "cell_type": "code",
      "source": [
        "def calculator():\n",
        "    print(\"Welcome to the Simple Calculator!\")\n",
        "    print(\"You can perform addition, subtraction, multiplication, and division.\\n\")\n",
        "\n",
        "    # Get the first number from the user\n",
        "    x = float(input(\"Enter the first number (x): \"))\n",
        "\n",
        "    # Get the operation from the user\n",
        "    operation = input(\"Choose the operation (+, -, *, /): \")\n",
        "\n",
        "    # Get the second number from the user\n",
        "    y = float(input(\"Enter the second number (y): \"))\n",
        "\n",
        "    # Perform the calculation based on the operation\n",
        "    if operation == '+':\n",
        "        result = x + y\n",
        "        print(f\"The result of {x} + {y} is {result}.\")\n",
        "    elif operation == '-':\n",
        "        result = x - y\n",
        "        print(f\"The result of {x} - {y} is {result}.\")\n",
        "    elif operation == '*':\n",
        "        result = x * y\n",
        "        print(f\"The result of {x} * {y} is {result}.\")\n",
        "    elif operation == '/':\n",
        "        # Check if the second number is not zero to avoid division by zero error\n",
        "        if y != 0:\n",
        "            result = x / y\n",
        "            print(f\"The result of {x} / {y} is {result}.\")\n",
        "        else:\n",
        "            print(\"Division by zero is not allowed.\")\n",
        "    else:\n",
        "        print(\"Invalid operation. Please select one of +, -, *, or /.\")\n",
        "\n",
        "# Run the calculator\n",
        "calculator()"
      ],
      "metadata": {
        "colab": {
          "base_uri": "https://localhost:8080/"
        },
        "id": "AEVeOSxXa63N",
        "outputId": "124c15dd-4bea-40a7-f3fe-fa016704f61b"
      },
      "execution_count": 4,
      "outputs": [
        {
          "output_type": "stream",
          "name": "stdout",
          "text": [
            "Welcome to the Simple Calculator!\n",
            "You can perform addition, subtraction, multiplication, and division.\n",
            "\n",
            "Enter the first number (x): 487209\n",
            "Choose the operation (+, -, *, /): *\n",
            "Enter the second number (y): 3848\n",
            "The result of 487209.0 * 3848.0 is 1874780232.0.\n"
          ]
        }
      ]
    },
    {
      "cell_type": "code",
      "source": [],
      "metadata": {
        "id": "qNoPYSJfb6Oy"
      },
      "execution_count": null,
      "outputs": []
    }
  ]
}
